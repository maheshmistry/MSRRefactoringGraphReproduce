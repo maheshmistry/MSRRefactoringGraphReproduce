{
 "cells": [
  {
   "cell_type": "code",
   "execution_count": null,
   "id": "grateful-ticket",
   "metadata": {},
   "outputs": [],
   "source": [
    "import pandas as pd\n",
    "import matplotlib.pyplot as plt"
   ]
  },
  {
   "cell_type": "code",
   "execution_count": null,
   "id": "looking-appeal",
   "metadata": {},
   "outputs": [],
   "source": [
    "graphsProp = pd.read_csv('../../dataset/saner-2020/subgraphs_properties.csv',';')\n",
    "graphsProp"
   ]
  },
  {
   "cell_type": "markdown",
   "id": "gentle-loading",
   "metadata": {},
   "source": [
    "# (RQ1) What Is the Size of Refactoring Subgraphs?"
   ]
  },
  {
   "cell_type": "code",
   "execution_count": null,
   "id": "downtown-adjustment",
   "metadata": {},
   "outputs": [],
   "source": [
    "verOccu = graphsProp['vertices'].value_counts()\n",
    "sixPlus = 0\n",
    "# print(type(verOccu))\n",
    "for keys in verOccu.keys():\n",
    "#     print(keys)\n",
    "    if keys >= 6:\n",
    "#         print([keys])\n",
    "        sixPlus = sixPlus + verOccu[keys]\n",
    "        verOccu = verOccu.drop(keys)\n",
    "\n",
    "verOccu = verOccu.sort_index()   \n",
    "verOccu['6+'] = sixPlus\n",
    "verOccu.plot.bar(xlabel='Vertices', ylabel='Occurence', title='Number of vertices by refactoring subgraph')"
   ]
  },
  {
   "cell_type": "code",
   "execution_count": null,
   "id": "reflected-alignment",
   "metadata": {},
   "outputs": [],
   "source": [
    "edgeOccu = graphsProp['edges'].value_counts()\n",
    "fivePlus = 0\n",
    "# print(type(verOccu))\n",
    "for keys in edgeOccu.keys():\n",
    "#     print(keys)\n",
    "    if keys >= 5:\n",
    "#         print([keys])\n",
    "        fivePlus = fivePlus + edgeOccu[keys]\n",
    "        edgeOccu = edgeOccu.drop(keys)\n",
    "\n",
    "edgeOccu = edgeOccu.sort_index()   \n",
    "edgeOccu['5+'] = fivePlus\n",
    "edgeOccu.plot.bar(xlabel='Edges', ylabel='Occurence', title='Number of edges by refactoring subgraph')"
   ]
  },
  {
   "cell_type": "markdown",
   "id": "personalized-judgment",
   "metadata": {},
   "source": [
    "# (RQ2) How Many Commits Are in Refactoring Subgraphs?"
   ]
  },
  {
   "cell_type": "code",
   "execution_count": null,
   "id": "explicit-optics",
   "metadata": {},
   "outputs": [],
   "source": [
    "commitOccu = graphsProp['commits'].value_counts()\n",
    "fivePlus = 0\n",
    "# print(type(verOccu))\n",
    "for keys in commitOccu.keys():\n",
    "#     print(keys)\n",
    "    if keys >= 5:\n",
    "#         print([keys])\n",
    "        fivePlus = fivePlus + commitOccu[keys]\n",
    "        commitOccu = commitOccu.drop(keys)\n",
    "\n",
    "commitOccu = commitOccu.sort_index()   \n",
    "commitOccu['5+'] = fivePlus\n",
    "commitOccu.plot.bar(xlabel='Commits', ylabel='Occurence', title='Number of commits by refactoring subgraph')"
   ]
  },
  {
   "cell_type": "markdown",
   "id": "chinese-diagnosis",
   "metadata": {},
   "source": [
    "# (RQ3) What Is the Age of Refactoring Subgraphs?"
   ]
  },
  {
   "cell_type": "code",
   "execution_count": null,
   "id": "adequate-console",
   "metadata": {},
   "outputs": [],
   "source": [
    "slimedProp = graphsProp[['project','age_days']].copy()\n",
    "\n",
    "slimedProp.groupby('project').boxplot(column='age_days', figsize=(25,25))"
   ]
  },
  {
   "cell_type": "markdown",
   "id": "boolean-survivor",
   "metadata": {},
   "source": [
    "# (RQ4) Which Refactorings Compose the Refactoring Sub-graphs?"
   ]
  },
  {
   "cell_type": "markdown",
   "id": "japanese-saturday",
   "metadata": {},
   "source": [
    "With the generated data from the previous scripts by authors it is not possible to count the frequency of the refactoring operations."
   ]
  },
  {
   "cell_type": "markdown",
   "id": "sexual-price",
   "metadata": {},
   "source": [
    "# (RQ5) Are the Refactoring Subgraphs Created by the Same or Multiple Developers?"
   ]
  },
  {
   "cell_type": "code",
   "execution_count": null,
   "id": "excessive-italic",
   "metadata": {},
   "outputs": [],
   "source": [
    "# Dosent seems to work at the moment\n",
    "\n",
    "# proDevProp = graphsProp[['project','developers']].copy()\n",
    "\n",
    "# devProDict = {}\n",
    "# for index, row in proDevProp.iterrows():\n",
    "#     if row['developers'] > 1:\n",
    "        \n",
    "#         if row['project'] not in devProDict: \n",
    "#             devProDict[row['project']] = {}\n",
    "#             devProDict[row['project']]['m'] = 0\n",
    "            \n",
    "#         if \"m\" in devProDict[row['project']]:\n",
    "#             devProDict['m'] = devProDict['m'] + 1\n",
    "#         else:\n",
    "#             devProDict['m'] = 0\n",
    "#             devProDict['m'] = devProDict['m'] + 1\n",
    "#     else:\n",
    "#         if row['project'] not in devProDict: \n",
    "#             devProDict[row['project']]['s'] = 0\n",
    "            \n",
    "#         if \"s\" in devProDict[row['project']]:\n",
    "#             devProDict['s'] = devProDict['s'] + 1\n",
    "#         else:\n",
    "#             devProDict['s'] = 0\n",
    "#             devProDict['s'] = devProDict['s'] + 1\n",
    "        \n",
    "# devProList"
   ]
  }
 ],
 "metadata": {
  "kernelspec": {
   "display_name": "Python 3",
   "language": "python",
   "name": "python3"
  },
  "language_info": {
   "codemirror_mode": {
    "name": "ipython",
    "version": 3
   },
   "file_extension": ".py",
   "mimetype": "text/x-python",
   "name": "python",
   "nbconvert_exporter": "python",
   "pygments_lexer": "ipython3",
   "version": "3.8.5"
  }
 },
 "nbformat": 4,
 "nbformat_minor": 5
}
