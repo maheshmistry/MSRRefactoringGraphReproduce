{
 "cells": [
  {
   "cell_type": "code",
   "execution_count": null,
   "id": "grateful-ticket",
   "metadata": {},
   "outputs": [],
   "source": [
    "import RQFunctions as rqfunc"
   ]
  },
  {
   "cell_type": "code",
   "execution_count": null,
   "id": "particular-catholic",
   "metadata": {
    "scrolled": true
   },
   "outputs": [],
   "source": [
    "import graph_generator"
   ]
  },
  {
   "cell_type": "code",
   "execution_count": null,
   "id": "looking-appeal",
   "metadata": {},
   "outputs": [],
   "source": [
    "rqfunc.setGraphProps('../../dataset/saner-2020/subgraphs_properties.csv')"
   ]
  },
  {
   "cell_type": "markdown",
   "id": "gentle-loading",
   "metadata": {},
   "source": [
    "# (RQ1) What Is the Size of Refactoring Subgraphs?"
   ]
  },
  {
   "cell_type": "code",
   "execution_count": null,
   "id": "physical-teddy",
   "metadata": {},
   "outputs": [],
   "source": [
    "rqfunc.noOfVertices()"
   ]
  },
  {
   "cell_type": "code",
   "execution_count": null,
   "id": "established-directive",
   "metadata": {},
   "outputs": [],
   "source": [
    "rqfunc.noOfEdges()"
   ]
  },
  {
   "cell_type": "markdown",
   "id": "personalized-judgment",
   "metadata": {},
   "source": [
    "# (RQ2) How Many Commits Are in Refactoring Subgraphs?"
   ]
  },
  {
   "cell_type": "code",
   "execution_count": null,
   "id": "legal-hartford",
   "metadata": {},
   "outputs": [],
   "source": [
    "rqfunc.noOfCommits()"
   ]
  },
  {
   "cell_type": "markdown",
   "id": "chinese-diagnosis",
   "metadata": {},
   "source": [
    "# (RQ3) What Is the Age of Refactoring Subgraphs?"
   ]
  },
  {
   "cell_type": "code",
   "execution_count": null,
   "id": "through-thing",
   "metadata": {},
   "outputs": [],
   "source": [
    "rqfunc.ageRefactorinmgGraph()"
   ]
  },
  {
   "cell_type": "markdown",
   "id": "boolean-survivor",
   "metadata": {},
   "source": [
    "# (RQ4) Which Refactorings Compose the Refactoring Sub-graphs?"
   ]
  },
  {
   "cell_type": "markdown",
   "id": "japanese-saturday",
   "metadata": {},
   "source": [
    "With the generated data from the previous scripts by authors it is not possible to count the frequency of the refactoring operations."
   ]
  },
  {
   "cell_type": "markdown",
   "id": "sexual-price",
   "metadata": {},
   "source": [
    "# (RQ5) Are the Refactoring Subgraphs Created by the Same or Multiple Developers?"
   ]
  },
  {
   "cell_type": "code",
   "execution_count": null,
   "id": "excessive-italic",
   "metadata": {},
   "outputs": [],
   "source": [
    "# Dosent seems to work at the moment\n",
    "\n",
    "# proDevProp = graphsProp[['project','developers']].copy()\n",
    "\n",
    "# devProDict = {}\n",
    "# for index, row in proDevProp.iterrows():\n",
    "#     if row['developers'] > 1:\n",
    "        \n",
    "#         if row['project'] not in devProDict: \n",
    "#             devProDict[row['project']] = {}\n",
    "#             devProDict[row['project']]['m'] = 0\n",
    "            \n",
    "#         if \"m\" in devProDict[row['project']]:\n",
    "#             devProDict['m'] = devProDict['m'] + 1\n",
    "#         else:\n",
    "#             devProDict['m'] = 0\n",
    "#             devProDict['m'] = devProDict['m'] + 1\n",
    "#     else:\n",
    "#         if row['project'] not in devProDict: \n",
    "#             devProDict[row['project']]['s'] = 0\n",
    "            \n",
    "#         if \"s\" in devProDict[row['project']]:\n",
    "#             devProDict['s'] = devProDict['s'] + 1\n",
    "#         else:\n",
    "#             devProDict['s'] = 0\n",
    "#             devProDict['s'] = devProDict['s'] + 1\n",
    "        \n",
    "# devProList"
   ]
  },
  {
   "cell_type": "code",
   "execution_count": null,
   "id": "prospective-witness",
   "metadata": {},
   "outputs": [],
   "source": []
  }
 ],
 "metadata": {
  "kernelspec": {
   "display_name": "Python 3",
   "language": "python",
   "name": "python3"
  },
  "language_info": {
   "codemirror_mode": {
    "name": "ipython",
    "version": 3
   },
   "file_extension": ".py",
   "mimetype": "text/x-python",
   "name": "python",
   "nbconvert_exporter": "python",
   "pygments_lexer": "ipython3",
   "version": "3.8.5"
  }
 },
 "nbformat": 4,
 "nbformat_minor": 5
}
